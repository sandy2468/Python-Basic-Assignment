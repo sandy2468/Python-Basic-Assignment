{
  "nbformat": 4,
  "nbformat_minor": 0,
  "metadata": {
    "colab": {
      "provenance": []
    },
    "kernelspec": {
      "name": "python3",
      "display_name": "Python 3"
    },
    "language_info": {
      "name": "python"
    }
  },
  "cells": [
    {
      "cell_type": "code",
      "execution_count": null,
      "metadata": {
        "id": "wVlP8xLSrqZ4"
      },
      "outputs": [],
      "source": []
    },
    {
      "cell_type": "markdown",
      "source": [
        "# Python basic"
      ],
      "metadata": {
        "id": "OzwvxTQur2kc"
      }
    },
    {
      "cell_type": "markdown",
      "source": [
        "1. What is Python, and why is it popular?\n",
        "  - Python is a high-level, interpreted programming language that is famous for being simple, readable, and flexible. Developed by Guido van Rossum and released in 1991, Python focuses on readability with a well-defined and easy-to-read syntax, which makes it an excellent programming language for both beginners and experts. Python is Easy to Learn and Use\n",
        "\n",
        "\n",
        "2. What is an interpreter in Python ?\n",
        "  - An interpreter in python is a programm that read and execute python source code line by line and runs automaticaly to convert instruction to machine understandable Language.\n",
        "\n",
        "\n",
        "3. What are pre-defined keywords in Python ?\n",
        "  - Pre-defined keywords in Python are special words that have predefined meanings.\n",
        "  They are fundamental to the language's syntax and structure, guiding the interpreter on how to execute code.\n",
        "\n",
        "  some keybords are below\n",
        "  1. and\n",
        "  2. or\n",
        "  3. not\n",
        "  4. True\n",
        "  5. False\n",
        "  6. if\n",
        "  7. else\n",
        "  8. elif\n",
        "  9. df\n",
        "  10. try\n",
        "\n",
        "\n",
        "4. Can keywords be used as variable names ?\n",
        "  - No, keywords can not be used as varibale name. Keyboards have specific meaning in programming syntex's language.\n",
        "\n",
        "\n",
        "5. What is mutability in Python ?\n",
        "  - Mutability means in Python stands for object can be modified.\n",
        "  - Can ulter Lists, Dictionary and sets.\n",
        "\n",
        "\n",
        "6. Why are lists mutable, but tuples are immutable ?\n",
        "  - Lists are mutable because this is used to store collection of items and these items can be changed during program execution.\n",
        "\n",
        "  - Tuples are immutable because of Hashable Keys. The data within a tuple remains constant throughout its lifetime. This prevents accidental modifications.\n",
        "  - Constant data makes tuples to perform better than lists\n",
        "\n",
        "\n",
        "\n",
        "7. What is the difference between “==” and “is” operators in Python ?\n",
        "   # \"==\"\n",
        "    - Checks if the values of two objects are equal.\n",
        "    - Returns True if the values are equal\n",
        "\n",
        "\n",
        "    # \"is\"\n",
        "    \n",
        "    - Checks if two variables refer to the same object in memory.\n",
        "    - Returns True if the variables point to the same object\n",
        "\n",
        "\n",
        "\n",
        "8. What are logical operators in Python ?\n",
        "\n",
        "  - There are 3 logical operators in Python\n",
        "  \n",
        "  a) and\n",
        "\n",
        "  b) or\n",
        "  \n",
        "  c) not\n",
        "\n",
        "\n",
        "9. What is type casting in Python ?\n",
        "\n",
        "  - Type Casting is the method to convert the Python variable datatype into a certain data type. Type casting, also known as type conversion, is the process of changing a variable's data type to another.\n",
        "      \n",
        "      There are two type of type casting\n",
        "      \n",
        "      a) Implicit type casting\n",
        "      \n",
        "      b) Explicit type casting\n",
        "\n",
        "\n",
        "10. What is the difference between implicit and explicit type casting ?\n",
        "    - Implicit type casting: runs by Python interpreter automaticaly when need to perform on different types of data.\n",
        "   - Explicit type casting: Runs manually by the programmer side using built-in functions. It's used when you need to convert a variable to a specific data type.\n",
        "\n",
        "\n",
        "11. What is the purpose of conditional statements in Python ?\n",
        "    - Conditional statements help Python programs make decisions by choosing different actions based on whether conditions are true or false.Conditional statements in Python help the program decide what to do next, just like we make choices based on situations.\n",
        "\n",
        "12. How does the elif statement work ?\n",
        "    - 'Elif' in Python, stands for 'else if,' is a keyword used after an 'if' statement to check additional conditions if the initial 'if' condition is false, executing its code block only if its own condition evaluates to true.\n",
        "\n",
        "13. What is the difference between for and while loops ?\n",
        "    - \"for\" loop is used to perform repeatedly over a sequence of items. While loop is used to repeatedly execute a block of statements while a condition is true.\n",
        "\n",
        "14. Describe a scenario where a while loop is more suitable than a for loop?\n",
        "  - While Loop: This is ideal loop to continue executing as long as a certain condition is true. The exact number of iterations isn't known beforehand.\n",
        "  - For Loop: This loop is used when you know ahead of time how many times you want to run the loop."
      ],
      "metadata": {
        "id": "KrcaDuFgs3Xc"
      }
    },
    {
      "cell_type": "markdown",
      "source": [
        "# Python Basic Practical Questions"
      ],
      "metadata": {
        "id": "2aBJoz9uZxHM"
      }
    },
    {
      "cell_type": "markdown",
      "source": [
        "1. Write a Python program to print \"Hello, World!\"\n"
      ],
      "metadata": {
        "id": "95hXKHhnaaQS"
      }
    },
    {
      "cell_type": "code",
      "source": [
        "print(\"Hello, World!\")"
      ],
      "metadata": {
        "colab": {
          "base_uri": "https://localhost:8080/"
        },
        "id": "1sCMs2UFanBD",
        "outputId": "be532b80-1abb-4d5d-86af-4bdc0ddb2490"
      },
      "execution_count": 2,
      "outputs": [
        {
          "output_type": "stream",
          "name": "stdout",
          "text": [
            "Hello, World!\n"
          ]
        }
      ]
    },
    {
      "cell_type": "markdown",
      "source": [
        "2. Write a Python program that displays your name and age.\n"
      ],
      "metadata": {
        "id": "aP1t69PlbGh5"
      }
    },
    {
      "cell_type": "code",
      "source": [
        "name = \"Sandeep Kumar\"\n",
        "age = 33\n",
        "\n",
        "print(\"Name:\", name)\n",
        "print(\"Age:\", age)"
      ],
      "metadata": {
        "colab": {
          "base_uri": "https://localhost:8080/"
        },
        "id": "2tMBj4TzbR0Z",
        "outputId": "601b1ff5-db44-44ca-f654-7db9773d68dc"
      },
      "execution_count": 3,
      "outputs": [
        {
          "output_type": "stream",
          "name": "stdout",
          "text": [
            "Name: Sandeep Kumar\n",
            "Age: 33\n"
          ]
        }
      ]
    },
    {
      "cell_type": "markdown",
      "source": [
        "3. Write code to print all the pre-defined keywords in Python using the keyword library."
      ],
      "metadata": {
        "id": "gB3ZdD_4cLRI"
      }
    },
    {
      "cell_type": "code",
      "source": [
        "import keyword as kw\n",
        "\n",
        "print(kw.kwlist)\n"
      ],
      "metadata": {
        "colab": {
          "base_uri": "https://localhost:8080/"
        },
        "id": "_JbyXWvgcX42",
        "outputId": "80d99794-ca2f-40b8-f686-d11f74a3bec0"
      },
      "execution_count": 4,
      "outputs": [
        {
          "output_type": "stream",
          "name": "stdout",
          "text": [
            "['False', 'None', 'True', 'and', 'as', 'assert', 'async', 'await', 'break', 'class', 'continue', 'def', 'del', 'elif', 'else', 'except', 'finally', 'for', 'from', 'global', 'if', 'import', 'in', 'is', 'lambda', 'nonlocal', 'not', 'or', 'pass', 'raise', 'return', 'try', 'while', 'with', 'yield']\n"
          ]
        }
      ]
    },
    {
      "cell_type": "markdown",
      "source": [
        "4. Write a program that checks if a given word is a Python keyword."
      ],
      "metadata": {
        "id": "TuQPPjtxeHYE"
      }
    },
    {
      "cell_type": "code",
      "source": [
        "# prompt: Write a program that checks if a given word is a Python keyword.\n",
        "\n",
        "word = \"or\"\n",
        "\n",
        "if word in kw.kwlist:\n",
        "  print(f\"'{word}' is a Python keyword.\")\n",
        "else:\n",
        "  print(f\"'{word}' is not a Python keyword.\")"
      ],
      "metadata": {
        "colab": {
          "base_uri": "https://localhost:8080/"
        },
        "id": "NZRBwzb_eORo",
        "outputId": "a47a3469-0d08-4c84-c5e3-d34d1302cb9d"
      },
      "execution_count": 13,
      "outputs": [
        {
          "output_type": "stream",
          "name": "stdout",
          "text": [
            "'or' is a Python keyword.\n"
          ]
        }
      ]
    },
    {
      "cell_type": "markdown",
      "source": [
        "5.  Create a list and tuple in Python, and demonstrate how attempting to change an element works differently for each"
      ],
      "metadata": {
        "id": "fS_0QccitElQ"
      }
    },
    {
      "cell_type": "code",
      "source": [
        "# Creating a list\n",
        "my_list = [1, 2, 3, 4, 5]\n",
        "print(\"Original list:\", my_list)\n",
        "\n",
        "# Creating a tuple\n",
        "my_tuple = (100, 200, 300, 400, 500)\n",
        "print(\"\\nOriginal tuple:\", my_tuple)"
      ],
      "metadata": {
        "colab": {
          "base_uri": "https://localhost:8080/"
        },
        "id": "efuRKl6ptuRm",
        "outputId": "43f91414-7a13-4c63-cb85-0037c5a86334"
      },
      "execution_count": 17,
      "outputs": [
        {
          "output_type": "stream",
          "name": "stdout",
          "text": [
            "Original list: [1, 2, 3, 4, 5]\n",
            "\n",
            "Original tuple: (100, 200, 300, 400, 500)\n"
          ]
        }
      ]
    }
  ]
}